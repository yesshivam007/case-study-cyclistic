{
 "cells": [
  {
   "cell_type": "markdown",
   "id": "4fc6df8e-e676-4085-843d-bcd66fac2d7e",
   "metadata": {},
   "source": [
    "# Case Study - Cyclist New Marketing Strategy"
   ]
  },
  {
   "cell_type": "markdown",
   "id": "575cadb1-02a5-4aef-ac71-84f02990458b",
   "metadata": {},
   "source": [
    " "
   ]
  },
  {
   "cell_type": "markdown",
   "id": "e08c509d-e1b3-4f18-b1f6-55b2bbd6b0d0",
   "metadata": {},
   "source": [
    " "
   ]
  },
  {
   "cell_type": "markdown",
   "id": "fbd48b81-4caa-41d5-92a7-37295ec84785",
   "metadata": {},
   "source": [
    "## Libraries & Data"
   ]
  },
  {
   "cell_type": "code",
   "execution_count": 1,
   "id": "a41501d7-2122-4461-9e82-3eb0e9810932",
   "metadata": {},
   "outputs": [],
   "source": [
    "import pandas as pd"
   ]
  },
  {
   "cell_type": "markdown",
   "id": "a1b22997-3cb3-4a4a-aa4b-c651d2a04843",
   "metadata": {},
   "source": [
    " "
   ]
  },
  {
   "cell_type": "code",
   "execution_count": 2,
   "id": "9ba64c7d-cfea-442a-9e49-ccaa0ee11a84",
   "metadata": {},
   "outputs": [],
   "source": [
    "data_19_q1 = pd.read_csv('../data/Divvy_Trips_2019_Q1.csv')"
   ]
  },
  {
   "cell_type": "markdown",
   "id": "58e492b6-5aaa-4551-b39c-a75c544621b7",
   "metadata": {},
   "source": [
    " "
   ]
  },
  {
   "cell_type": "markdown",
   "id": "fdd9649a-7fe2-4877-86ae-fd00c69604e6",
   "metadata": {},
   "source": [
    "## Data Cleaning"
   ]
  },
  {
   "cell_type": "markdown",
   "id": "bbf1a931-ca8f-49dd-bc92-a0090c707973",
   "metadata": {},
   "source": [
    "***Performing data cleaning on first dataset to standardize a format***"
   ]
  },
  {
   "cell_type": "markdown",
   "id": "e74c507f-ebbb-491a-b61e-b094c124e413",
   "metadata": {},
   "source": [
    " "
   ]
  },
  {
   "cell_type": "markdown",
   "id": "f1320fa8-a6ef-43d4-8c68-7d4eeeb10ce0",
   "metadata": {},
   "source": [
    "> **Dataset - 2019 Q1**"
   ]
  },
  {
   "cell_type": "code",
   "execution_count": 3,
   "id": "b007e548-33dd-4185-afca-9a0edef262fd",
   "metadata": {},
   "outputs": [
    {
     "name": "stdout",
     "output_type": "stream",
     "text": [
      "<class 'pandas.core.frame.DataFrame'>\n",
      "RangeIndex: 365069 entries, 0 to 365068\n",
      "Data columns (total 12 columns):\n",
      " #   Column             Non-Null Count   Dtype  \n",
      "---  ------             --------------   -----  \n",
      " 0   trip_id            365069 non-null  int64  \n",
      " 1   start_time         365069 non-null  object \n",
      " 2   end_time           365069 non-null  object \n",
      " 3   bikeid             365069 non-null  int64  \n",
      " 4   tripduration       365069 non-null  object \n",
      " 5   from_station_id    365069 non-null  int64  \n",
      " 6   from_station_name  365069 non-null  object \n",
      " 7   to_station_id      365069 non-null  int64  \n",
      " 8   to_station_name    365069 non-null  object \n",
      " 9   usertype           365069 non-null  object \n",
      " 10  gender             345358 non-null  object \n",
      " 11  birthyear          347046 non-null  float64\n",
      "dtypes: float64(1), int64(4), object(7)\n",
      "memory usage: 33.4+ MB\n"
     ]
    }
   ],
   "source": [
    "data_19_q1.info()"
   ]
  },
  {
   "cell_type": "code",
   "execution_count": 4,
   "id": "08677e37-d11b-4f8a-822a-c17d06402409",
   "metadata": {},
   "outputs": [
    {
     "data": {
      "text/html": [
       "<div>\n",
       "<style scoped>\n",
       "    .dataframe tbody tr th:only-of-type {\n",
       "        vertical-align: middle;\n",
       "    }\n",
       "\n",
       "    .dataframe tbody tr th {\n",
       "        vertical-align: top;\n",
       "    }\n",
       "\n",
       "    .dataframe thead th {\n",
       "        text-align: right;\n",
       "    }\n",
       "</style>\n",
       "<table border=\"1\" class=\"dataframe\">\n",
       "  <thead>\n",
       "    <tr style=\"text-align: right;\">\n",
       "      <th></th>\n",
       "      <th>trip_id</th>\n",
       "      <th>start_time</th>\n",
       "      <th>end_time</th>\n",
       "      <th>bikeid</th>\n",
       "      <th>tripduration</th>\n",
       "      <th>from_station_id</th>\n",
       "      <th>from_station_name</th>\n",
       "      <th>to_station_id</th>\n",
       "      <th>to_station_name</th>\n",
       "      <th>usertype</th>\n",
       "      <th>gender</th>\n",
       "      <th>birthyear</th>\n",
       "    </tr>\n",
       "  </thead>\n",
       "  <tbody>\n",
       "    <tr>\n",
       "      <th>0</th>\n",
       "      <td>21742443</td>\n",
       "      <td>2019-01-01 00:04:37</td>\n",
       "      <td>2019-01-01 00:11:07</td>\n",
       "      <td>2167</td>\n",
       "      <td>390.0</td>\n",
       "      <td>199</td>\n",
       "      <td>Wabash Ave &amp; Grand Ave</td>\n",
       "      <td>84</td>\n",
       "      <td>Milwaukee Ave &amp; Grand Ave</td>\n",
       "      <td>Subscriber</td>\n",
       "      <td>Male</td>\n",
       "      <td>1989.0</td>\n",
       "    </tr>\n",
       "    <tr>\n",
       "      <th>1</th>\n",
       "      <td>21742444</td>\n",
       "      <td>2019-01-01 00:08:13</td>\n",
       "      <td>2019-01-01 00:15:34</td>\n",
       "      <td>4386</td>\n",
       "      <td>441.0</td>\n",
       "      <td>44</td>\n",
       "      <td>State St &amp; Randolph St</td>\n",
       "      <td>624</td>\n",
       "      <td>Dearborn St &amp; Van Buren St (*)</td>\n",
       "      <td>Subscriber</td>\n",
       "      <td>Female</td>\n",
       "      <td>1990.0</td>\n",
       "    </tr>\n",
       "    <tr>\n",
       "      <th>2</th>\n",
       "      <td>21742445</td>\n",
       "      <td>2019-01-01 00:13:23</td>\n",
       "      <td>2019-01-01 00:27:12</td>\n",
       "      <td>1524</td>\n",
       "      <td>829.0</td>\n",
       "      <td>15</td>\n",
       "      <td>Racine Ave &amp; 18th St</td>\n",
       "      <td>644</td>\n",
       "      <td>Western Ave &amp; Fillmore St (*)</td>\n",
       "      <td>Subscriber</td>\n",
       "      <td>Female</td>\n",
       "      <td>1994.0</td>\n",
       "    </tr>\n",
       "  </tbody>\n",
       "</table>\n",
       "</div>"
      ],
      "text/plain": [
       "    trip_id           start_time             end_time  bikeid tripduration  \\\n",
       "0  21742443  2019-01-01 00:04:37  2019-01-01 00:11:07    2167        390.0   \n",
       "1  21742444  2019-01-01 00:08:13  2019-01-01 00:15:34    4386        441.0   \n",
       "2  21742445  2019-01-01 00:13:23  2019-01-01 00:27:12    1524        829.0   \n",
       "\n",
       "   from_station_id       from_station_name  to_station_id  \\\n",
       "0              199  Wabash Ave & Grand Ave             84   \n",
       "1               44  State St & Randolph St            624   \n",
       "2               15    Racine Ave & 18th St            644   \n",
       "\n",
       "                  to_station_name    usertype  gender  birthyear  \n",
       "0       Milwaukee Ave & Grand Ave  Subscriber    Male     1989.0  \n",
       "1  Dearborn St & Van Buren St (*)  Subscriber  Female     1990.0  \n",
       "2   Western Ave & Fillmore St (*)  Subscriber  Female     1994.0  "
      ]
     },
     "execution_count": 4,
     "metadata": {},
     "output_type": "execute_result"
    }
   ],
   "source": [
    "data_19_q1.head(3)"
   ]
  },
  {
   "cell_type": "markdown",
   "id": "0b8bfb80-468e-40f9-827d-5cce714a26a5",
   "metadata": {},
   "source": [
    " "
   ]
  },
  {
   "cell_type": "markdown",
   "id": "1b3b9f81-4cb8-4557-93f7-f2463f9e89c1",
   "metadata": {},
   "source": [
    "**1. Removing null values**"
   ]
  },
  {
   "cell_type": "code",
   "execution_count": 5,
   "id": "2aa697a1-b38d-4ab7-8e6f-1e6fe2a7ed50",
   "metadata": {},
   "outputs": [],
   "source": [
    "data_19_q1 = data_19_q1[~data_19_q1['gender'].isnull() & ~data_19_q1['birthyear'].isnull()]"
   ]
  },
  {
   "cell_type": "markdown",
   "id": "2d842215-e64f-4f49-bf58-f56e39e44896",
   "metadata": {},
   "source": [
    "**2. Trip Duration --> Converting to integer**"
   ]
  },
  {
   "cell_type": "code",
   "execution_count": 6,
   "id": "362ac0f5-7cc8-4996-b670-40fc3ae28a73",
   "metadata": {},
   "outputs": [],
   "source": [
    "data_19_q1['tripduration'] = data_19_q1['tripduration'].apply(lambda x: float(x.replace(',', '')))\n",
    "data_19_q1['tripduration'] = data_19_q1['tripduration'].apply(lambda x: int(x))"
   ]
  },
  {
   "cell_type": "markdown",
   "id": "dda34402-da3a-413d-9b1c-ce742030d34b",
   "metadata": {},
   "source": [
    "**3. Birth Year --> Converting to integer & getting age (as in 2020)**"
   ]
  },
  {
   "cell_type": "code",
   "execution_count": 7,
   "id": "72b94e5c-75da-44f1-9a98-990f79965dbf",
   "metadata": {},
   "outputs": [],
   "source": [
    "data_19_q1['birthyear'] = data_19_q1['birthyear'].apply(lambda x: int(x))\n",
    "data_19_q1['age'] = data_19_q1['birthyear'].apply(lambda x: 2020-x)"
   ]
  },
  {
   "cell_type": "markdown",
   "id": "cc07ab72-c906-4d2b-9458-8808006c8fee",
   "metadata": {},
   "source": [
    "**4. Setting user type --> Member/ Casual**"
   ]
  },
  {
   "cell_type": "code",
   "execution_count": 8,
   "id": "5bd44f66-20d6-4c3c-9430-6faddeb93b49",
   "metadata": {},
   "outputs": [
    {
     "data": {
      "text/plain": [
       "usertype\n",
       "Subscriber    339423\n",
       "Customer        5934\n",
       "Name: count, dtype: int64"
      ]
     },
     "execution_count": 8,
     "metadata": {},
     "output_type": "execute_result"
    }
   ],
   "source": [
    "data_19_q1['usertype'].value_counts()"
   ]
  },
  {
   "cell_type": "code",
   "execution_count": 9,
   "id": "937b7c2e-d181-4331-839f-451156f16da7",
   "metadata": {},
   "outputs": [],
   "source": [
    "data_19_q1['usertype'] = data_19_q1['usertype'].replace({'Subscriber':'Member', 'Customer':'Casual'})"
   ]
  },
  {
   "cell_type": "markdown",
   "id": "af392527-a3a3-4125-9227-948417302766",
   "metadata": {},
   "source": [
    "**5. Start/ End time --> datetime**"
   ]
  },
  {
   "cell_type": "code",
   "execution_count": 10,
   "id": "bbb8de4a-74a4-423d-bc75-ba70e90a12ad",
   "metadata": {},
   "outputs": [],
   "source": [
    "data_19_q1['start_time'] = pd.to_datetime(data_19_q1['start_time'])\n",
    "data_19_q1['end_time'] = pd.to_datetime(data_19_q1['end_time'])"
   ]
  },
  {
   "cell_type": "markdown",
   "id": "8afb3ef8-0ebe-457a-aa40-5e51114f6f9c",
   "metadata": {},
   "source": [
    " "
   ]
  },
  {
   "cell_type": "markdown",
   "id": "3d420fc6-8a8a-4636-98e9-ffb31a1d524b",
   "metadata": {},
   "source": [
    "***Creating columns with standard names***"
   ]
  },
  {
   "cell_type": "code",
   "execution_count": 11,
   "id": "6d271b4a-2f07-4dcf-897f-ccf99ed81818",
   "metadata": {},
   "outputs": [],
   "source": [
    "data_19_q1['start_id'] = data_19_q1['from_station_id']\n",
    "data_19_q1['end_id'] = data_19_q1['to_station_id']\n",
    "\n",
    "data_19_q1['start_name'] = data_19_q1['from_station_name']\n",
    "data_19_q1['end_name'] = data_19_q1['to_station_name']\n",
    "\n",
    "data_19_q1['bike_id'] = data_19_q1['bikeid']\n",
    "data_19_q1['trip_duration'] = data_19_q1['tripduration']\n",
    "\n",
    "data_19_q1['user_type'] = data_19_q1['usertype']"
   ]
  },
  {
   "cell_type": "markdown",
   "id": "5670b147-b6bf-4476-a8ea-8997d6cc5532",
   "metadata": {},
   "source": [
    "***Dropping older columns***"
   ]
  },
  {
   "cell_type": "code",
   "execution_count": 12,
   "id": "52b62a51-aa23-4b22-acc3-e50595dadb45",
   "metadata": {},
   "outputs": [],
   "source": [
    "data_19_q1 = data_19_q1.drop(['trip_id', 'bikeid', 'tripduration', 'from_station_id', 'to_station_id', 'from_station_name', 'to_station_name', 'usertype', 'birthyear'], axis=1)"
   ]
  },
  {
   "cell_type": "markdown",
   "id": "7e9a4066-6165-426e-92cb-bdc842f15f09",
   "metadata": {},
   "source": [
    "***New Column order***"
   ]
  },
  {
   "cell_type": "code",
   "execution_count": 13,
   "id": "ec034c0a-cfcf-4b68-96d4-9ebf918cdc19",
   "metadata": {},
   "outputs": [],
   "source": [
    "column_order = ['start_time', 'end_time', 'trip_duration', 'start_id', 'end_id', 'start_name', 'end_name', 'bike_id', 'gender', 'age', 'user_type']\n",
    "data_19_q1 = data_19_q1[column_order]"
   ]
  },
  {
   "cell_type": "code",
   "execution_count": 14,
   "id": "330c3d59-3c90-420d-a932-918f5745ef99",
   "metadata": {},
   "outputs": [
    {
     "name": "stdout",
     "output_type": "stream",
     "text": [
      "<class 'pandas.core.frame.DataFrame'>\n",
      "Index: 345357 entries, 0 to 365068\n",
      "Data columns (total 11 columns):\n",
      " #   Column         Non-Null Count   Dtype         \n",
      "---  ------         --------------   -----         \n",
      " 0   start_time     345357 non-null  datetime64[ns]\n",
      " 1   end_time       345357 non-null  datetime64[ns]\n",
      " 2   trip_duration  345357 non-null  int64         \n",
      " 3   start_id       345357 non-null  int64         \n",
      " 4   end_id         345357 non-null  int64         \n",
      " 5   start_name     345357 non-null  object        \n",
      " 6   end_name       345357 non-null  object        \n",
      " 7   bike_id        345357 non-null  int64         \n",
      " 8   gender         345357 non-null  object        \n",
      " 9   age            345357 non-null  int64         \n",
      " 10  user_type      345357 non-null  object        \n",
      "dtypes: datetime64[ns](2), int64(5), object(4)\n",
      "memory usage: 31.6+ MB\n"
     ]
    }
   ],
   "source": [
    "data_19_q1.info()"
   ]
  },
  {
   "cell_type": "code",
   "execution_count": 15,
   "id": "6a4129fa-f59f-4c58-beed-6a877763992d",
   "metadata": {},
   "outputs": [
    {
     "data": {
      "text/html": [
       "<div>\n",
       "<style scoped>\n",
       "    .dataframe tbody tr th:only-of-type {\n",
       "        vertical-align: middle;\n",
       "    }\n",
       "\n",
       "    .dataframe tbody tr th {\n",
       "        vertical-align: top;\n",
       "    }\n",
       "\n",
       "    .dataframe thead th {\n",
       "        text-align: right;\n",
       "    }\n",
       "</style>\n",
       "<table border=\"1\" class=\"dataframe\">\n",
       "  <thead>\n",
       "    <tr style=\"text-align: right;\">\n",
       "      <th></th>\n",
       "      <th>start_time</th>\n",
       "      <th>end_time</th>\n",
       "      <th>trip_duration</th>\n",
       "      <th>start_id</th>\n",
       "      <th>end_id</th>\n",
       "      <th>start_name</th>\n",
       "      <th>end_name</th>\n",
       "      <th>bike_id</th>\n",
       "      <th>gender</th>\n",
       "      <th>age</th>\n",
       "      <th>user_type</th>\n",
       "    </tr>\n",
       "  </thead>\n",
       "  <tbody>\n",
       "    <tr>\n",
       "      <th>0</th>\n",
       "      <td>2019-01-01 00:04:37</td>\n",
       "      <td>2019-01-01 00:11:07</td>\n",
       "      <td>390</td>\n",
       "      <td>199</td>\n",
       "      <td>84</td>\n",
       "      <td>Wabash Ave &amp; Grand Ave</td>\n",
       "      <td>Milwaukee Ave &amp; Grand Ave</td>\n",
       "      <td>2167</td>\n",
       "      <td>Male</td>\n",
       "      <td>31</td>\n",
       "      <td>Member</td>\n",
       "    </tr>\n",
       "    <tr>\n",
       "      <th>1</th>\n",
       "      <td>2019-01-01 00:08:13</td>\n",
       "      <td>2019-01-01 00:15:34</td>\n",
       "      <td>441</td>\n",
       "      <td>44</td>\n",
       "      <td>624</td>\n",
       "      <td>State St &amp; Randolph St</td>\n",
       "      <td>Dearborn St &amp; Van Buren St (*)</td>\n",
       "      <td>4386</td>\n",
       "      <td>Female</td>\n",
       "      <td>30</td>\n",
       "      <td>Member</td>\n",
       "    </tr>\n",
       "    <tr>\n",
       "      <th>2</th>\n",
       "      <td>2019-01-01 00:13:23</td>\n",
       "      <td>2019-01-01 00:27:12</td>\n",
       "      <td>829</td>\n",
       "      <td>15</td>\n",
       "      <td>644</td>\n",
       "      <td>Racine Ave &amp; 18th St</td>\n",
       "      <td>Western Ave &amp; Fillmore St (*)</td>\n",
       "      <td>1524</td>\n",
       "      <td>Female</td>\n",
       "      <td>26</td>\n",
       "      <td>Member</td>\n",
       "    </tr>\n",
       "  </tbody>\n",
       "</table>\n",
       "</div>"
      ],
      "text/plain": [
       "           start_time            end_time  trip_duration  start_id  end_id  \\\n",
       "0 2019-01-01 00:04:37 2019-01-01 00:11:07            390       199      84   \n",
       "1 2019-01-01 00:08:13 2019-01-01 00:15:34            441        44     624   \n",
       "2 2019-01-01 00:13:23 2019-01-01 00:27:12            829        15     644   \n",
       "\n",
       "               start_name                        end_name  bike_id  gender  \\\n",
       "0  Wabash Ave & Grand Ave       Milwaukee Ave & Grand Ave     2167    Male   \n",
       "1  State St & Randolph St  Dearborn St & Van Buren St (*)     4386  Female   \n",
       "2    Racine Ave & 18th St   Western Ave & Fillmore St (*)     1524  Female   \n",
       "\n",
       "   age user_type  \n",
       "0   31    Member  \n",
       "1   30    Member  \n",
       "2   26    Member  "
      ]
     },
     "execution_count": 15,
     "metadata": {},
     "output_type": "execute_result"
    }
   ],
   "source": [
    "data_19_q1.head(3)"
   ]
  },
  {
   "cell_type": "markdown",
   "id": "3d43d429-9a6a-4858-9acf-707ac74a7d4a",
   "metadata": {},
   "source": [
    " "
   ]
  },
  {
   "cell_type": "markdown",
   "id": "a8ed874c-1bde-46f9-8fb9-83d67b64318d",
   "metadata": {},
   "source": [
    "**Standardizing for other datasets**"
   ]
  },
  {
   "cell_type": "markdown",
   "id": "297c9d2e-e2ca-463e-8659-78a4ad83d797",
   "metadata": {},
   "source": [
    " "
   ]
  },
  {
   "cell_type": "markdown",
   "id": "fd2f11fc-ab1b-478b-9432-11b0e9bbe9ef",
   "metadata": {},
   "source": [
    "> **Dataset - 2019 Q2**"
   ]
  },
  {
   "cell_type": "code",
   "execution_count": 16,
   "id": "d3f39d5e-257c-4231-bdab-b93ebe1bd077",
   "metadata": {},
   "outputs": [],
   "source": [
    "data_19_q2 = pd.read_csv('../data/Divvy_Trips_2019_Q2.csv')"
   ]
  },
  {
   "cell_type": "code",
   "execution_count": 17,
   "id": "4e2bb69c-57af-4bde-94c3-e52e9a690148",
   "metadata": {},
   "outputs": [
    {
     "name": "stdout",
     "output_type": "stream",
     "text": [
      "<class 'pandas.core.frame.DataFrame'>\n",
      "RangeIndex: 1108163 entries, 0 to 1108162\n",
      "Data columns (total 12 columns):\n",
      " #   Column                                            Non-Null Count    Dtype  \n",
      "---  ------                                            --------------    -----  \n",
      " 0   01 - Rental Details Rental ID                     1108163 non-null  int64  \n",
      " 1   01 - Rental Details Local Start Time              1108163 non-null  object \n",
      " 2   01 - Rental Details Local End Time                1108163 non-null  object \n",
      " 3   01 - Rental Details Bike ID                       1108163 non-null  int64  \n",
      " 4   01 - Rental Details Duration In Seconds Uncapped  1108163 non-null  object \n",
      " 5   03 - Rental Start Station ID                      1108163 non-null  int64  \n",
      " 6   03 - Rental Start Station Name                    1108163 non-null  object \n",
      " 7   02 - Rental End Station ID                        1108163 non-null  int64  \n",
      " 8   02 - Rental End Station Name                      1108163 non-null  object \n",
      " 9   User Type                                         1108163 non-null  object \n",
      " 10  Member Gender                                     922609 non-null   object \n",
      " 11  05 - Member Details Member Birthday Year          927210 non-null   float64\n",
      "dtypes: float64(1), int64(4), object(7)\n",
      "memory usage: 101.5+ MB\n"
     ]
    }
   ],
   "source": [
    "data_19_q2.info()"
   ]
  },
  {
   "cell_type": "code",
   "execution_count": 18,
   "id": "9aca66f3-c0c2-4ec5-a984-e4395a7ad12b",
   "metadata": {},
   "outputs": [
    {
     "data": {
      "text/html": [
       "<div>\n",
       "<style scoped>\n",
       "    .dataframe tbody tr th:only-of-type {\n",
       "        vertical-align: middle;\n",
       "    }\n",
       "\n",
       "    .dataframe tbody tr th {\n",
       "        vertical-align: top;\n",
       "    }\n",
       "\n",
       "    .dataframe thead th {\n",
       "        text-align: right;\n",
       "    }\n",
       "</style>\n",
       "<table border=\"1\" class=\"dataframe\">\n",
       "  <thead>\n",
       "    <tr style=\"text-align: right;\">\n",
       "      <th></th>\n",
       "      <th>01 - Rental Details Rental ID</th>\n",
       "      <th>01 - Rental Details Local Start Time</th>\n",
       "      <th>01 - Rental Details Local End Time</th>\n",
       "      <th>01 - Rental Details Bike ID</th>\n",
       "      <th>01 - Rental Details Duration In Seconds Uncapped</th>\n",
       "      <th>03 - Rental Start Station ID</th>\n",
       "      <th>03 - Rental Start Station Name</th>\n",
       "      <th>02 - Rental End Station ID</th>\n",
       "      <th>02 - Rental End Station Name</th>\n",
       "      <th>User Type</th>\n",
       "      <th>Member Gender</th>\n",
       "      <th>05 - Member Details Member Birthday Year</th>\n",
       "    </tr>\n",
       "  </thead>\n",
       "  <tbody>\n",
       "    <tr>\n",
       "      <th>0</th>\n",
       "      <td>22178529</td>\n",
       "      <td>2019-04-01 00:02:22</td>\n",
       "      <td>2019-04-01 00:09:48</td>\n",
       "      <td>6251</td>\n",
       "      <td>446.0</td>\n",
       "      <td>81</td>\n",
       "      <td>Daley Center Plaza</td>\n",
       "      <td>56</td>\n",
       "      <td>Desplaines St &amp; Kinzie St</td>\n",
       "      <td>Subscriber</td>\n",
       "      <td>Male</td>\n",
       "      <td>1975.0</td>\n",
       "    </tr>\n",
       "    <tr>\n",
       "      <th>1</th>\n",
       "      <td>22178530</td>\n",
       "      <td>2019-04-01 00:03:02</td>\n",
       "      <td>2019-04-01 00:20:30</td>\n",
       "      <td>6226</td>\n",
       "      <td>1,048.0</td>\n",
       "      <td>317</td>\n",
       "      <td>Wood St &amp; Taylor St</td>\n",
       "      <td>59</td>\n",
       "      <td>Wabash Ave &amp; Roosevelt Rd</td>\n",
       "      <td>Subscriber</td>\n",
       "      <td>Female</td>\n",
       "      <td>1984.0</td>\n",
       "    </tr>\n",
       "    <tr>\n",
       "      <th>2</th>\n",
       "      <td>22178531</td>\n",
       "      <td>2019-04-01 00:11:07</td>\n",
       "      <td>2019-04-01 00:15:19</td>\n",
       "      <td>5649</td>\n",
       "      <td>252.0</td>\n",
       "      <td>283</td>\n",
       "      <td>LaSalle St &amp; Jackson Blvd</td>\n",
       "      <td>174</td>\n",
       "      <td>Canal St &amp; Madison St</td>\n",
       "      <td>Subscriber</td>\n",
       "      <td>Male</td>\n",
       "      <td>1990.0</td>\n",
       "    </tr>\n",
       "  </tbody>\n",
       "</table>\n",
       "</div>"
      ],
      "text/plain": [
       "   01 - Rental Details Rental ID 01 - Rental Details Local Start Time  \\\n",
       "0                       22178529                  2019-04-01 00:02:22   \n",
       "1                       22178530                  2019-04-01 00:03:02   \n",
       "2                       22178531                  2019-04-01 00:11:07   \n",
       "\n",
       "  01 - Rental Details Local End Time  01 - Rental Details Bike ID  \\\n",
       "0                2019-04-01 00:09:48                         6251   \n",
       "1                2019-04-01 00:20:30                         6226   \n",
       "2                2019-04-01 00:15:19                         5649   \n",
       "\n",
       "  01 - Rental Details Duration In Seconds Uncapped  \\\n",
       "0                                            446.0   \n",
       "1                                          1,048.0   \n",
       "2                                            252.0   \n",
       "\n",
       "   03 - Rental Start Station ID 03 - Rental Start Station Name  \\\n",
       "0                            81             Daley Center Plaza   \n",
       "1                           317            Wood St & Taylor St   \n",
       "2                           283      LaSalle St & Jackson Blvd   \n",
       "\n",
       "   02 - Rental End Station ID 02 - Rental End Station Name   User Type  \\\n",
       "0                          56    Desplaines St & Kinzie St  Subscriber   \n",
       "1                          59    Wabash Ave & Roosevelt Rd  Subscriber   \n",
       "2                         174        Canal St & Madison St  Subscriber   \n",
       "\n",
       "  Member Gender  05 - Member Details Member Birthday Year  \n",
       "0          Male                                    1975.0  \n",
       "1        Female                                    1984.0  \n",
       "2          Male                                    1990.0  "
      ]
     },
     "execution_count": 18,
     "metadata": {},
     "output_type": "execute_result"
    }
   ],
   "source": [
    "data_19_q2.head(3)"
   ]
  },
  {
   "cell_type": "code",
   "execution_count": 19,
   "id": "ecfaae94-fb4f-4e97-a6e1-f47b53d0e1aa",
   "metadata": {},
   "outputs": [],
   "source": [
    "# Removing Null Values\n",
    "data_19_q2 = data_19_q2[~data_19_q2['Member Gender'].isnull() & ~data_19_q2['05 - Member Details Member Birthday Year'].isnull()]\n",
    "\n",
    "# Trip duration --> interger\n",
    "data_19_q2['01 - Rental Details Duration In Seconds Uncapped'] = data_19_q2['01 - Rental Details Duration In Seconds Uncapped'].apply(lambda x: float(x.replace(',', '')))\n",
    "data_19_q2['01 - Rental Details Duration In Seconds Uncapped'] = data_19_q2['01 - Rental Details Duration In Seconds Uncapped'].apply(lambda x: int(x))\n",
    "\n",
    "# User Type --> Member/ Casual\n",
    "data_19_q2['User Type'] = data_19_q2['User Type'].replace({'Subscriber': 'Member', 'Customer': 'Casual'})\n",
    "\n",
    "# Age (as in 2020) --> from birthyear\n",
    "data_19_q2['05 - Member Details Member Birthday Year'] = data_19_q2['05 - Member Details Member Birthday Year'].apply(lambda x: int(x))\n",
    "data_19_q2['age'] = data_19_q2['05 - Member Details Member Birthday Year'].apply(lambda x: 2020-x)\n",
    "\n",
    "# Obj --> datetime\n",
    "data_19_q2['01 - Rental Details Local Start Time'] = pd.to_datetime(data_19_q2['01 - Rental Details Local Start Time'])\n",
    "data_19_q2['01 - Rental Details Local End Time'] = pd.to_datetime(data_19_q2['01 - Rental Details Local End Time'])\n",
    "\n",
    "# Renaming\n",
    "data_19_q2['start_time'] = data_19_q2['01 - Rental Details Local Start Time']\n",
    "data_19_q2['end_time'] = data_19_q2['01 - Rental Details Local End Time']\n",
    "\n",
    "data_19_q2['start_id'] = data_19_q2['03 - Rental Start Station ID']\n",
    "data_19_q2['end_id'] = data_19_q2['02 - Rental End Station ID']\n",
    "\n",
    "data_19_q2['start_name'] = data_19_q2['03 - Rental Start Station Name']\n",
    "data_19_q2['end_name'] = data_19_q2['02 - Rental End Station Name']\n",
    "\n",
    "data_19_q2['trip_duration'] = data_19_q2['01 - Rental Details Duration In Seconds Uncapped']\n",
    "data_19_q2['bike_id'] = data_19_q2['01 - Rental Details Bike ID']\n",
    "\n",
    "data_19_q2['gender'] = data_19_q2['Member Gender']\n",
    "data_19_q2['user_type'] = data_19_q2['User Type']\n",
    "\n",
    "# Column Order\n",
    "data_19_q2 = data_19_q2[column_order]"
   ]
  },
  {
   "cell_type": "code",
   "execution_count": 20,
   "id": "05d5a252-b21d-4204-a9db-cf6f730e0b26",
   "metadata": {},
   "outputs": [
    {
     "name": "stdout",
     "output_type": "stream",
     "text": [
      "<class 'pandas.core.frame.DataFrame'>\n",
      "Index: 922608 entries, 0 to 1108162\n",
      "Data columns (total 11 columns):\n",
      " #   Column         Non-Null Count   Dtype         \n",
      "---  ------         --------------   -----         \n",
      " 0   start_time     922608 non-null  datetime64[ns]\n",
      " 1   end_time       922608 non-null  datetime64[ns]\n",
      " 2   trip_duration  922608 non-null  int64         \n",
      " 3   start_id       922608 non-null  int64         \n",
      " 4   end_id         922608 non-null  int64         \n",
      " 5   start_name     922608 non-null  object        \n",
      " 6   end_name       922608 non-null  object        \n",
      " 7   bike_id        922608 non-null  int64         \n",
      " 8   gender         922608 non-null  object        \n",
      " 9   age            922608 non-null  int64         \n",
      " 10  user_type      922608 non-null  object        \n",
      "dtypes: datetime64[ns](2), int64(5), object(4)\n",
      "memory usage: 84.5+ MB\n"
     ]
    }
   ],
   "source": [
    "data_19_q2.info()"
   ]
  },
  {
   "cell_type": "code",
   "execution_count": 21,
   "id": "90c734be-51a9-492c-b6f7-23a160110fe1",
   "metadata": {},
   "outputs": [
    {
     "data": {
      "text/html": [
       "<div>\n",
       "<style scoped>\n",
       "    .dataframe tbody tr th:only-of-type {\n",
       "        vertical-align: middle;\n",
       "    }\n",
       "\n",
       "    .dataframe tbody tr th {\n",
       "        vertical-align: top;\n",
       "    }\n",
       "\n",
       "    .dataframe thead th {\n",
       "        text-align: right;\n",
       "    }\n",
       "</style>\n",
       "<table border=\"1\" class=\"dataframe\">\n",
       "  <thead>\n",
       "    <tr style=\"text-align: right;\">\n",
       "      <th></th>\n",
       "      <th>start_time</th>\n",
       "      <th>end_time</th>\n",
       "      <th>trip_duration</th>\n",
       "      <th>start_id</th>\n",
       "      <th>end_id</th>\n",
       "      <th>start_name</th>\n",
       "      <th>end_name</th>\n",
       "      <th>bike_id</th>\n",
       "      <th>gender</th>\n",
       "      <th>age</th>\n",
       "      <th>user_type</th>\n",
       "    </tr>\n",
       "  </thead>\n",
       "  <tbody>\n",
       "    <tr>\n",
       "      <th>0</th>\n",
       "      <td>2019-04-01 00:02:22</td>\n",
       "      <td>2019-04-01 00:09:48</td>\n",
       "      <td>446</td>\n",
       "      <td>81</td>\n",
       "      <td>56</td>\n",
       "      <td>Daley Center Plaza</td>\n",
       "      <td>Desplaines St &amp; Kinzie St</td>\n",
       "      <td>6251</td>\n",
       "      <td>Male</td>\n",
       "      <td>45</td>\n",
       "      <td>Member</td>\n",
       "    </tr>\n",
       "    <tr>\n",
       "      <th>1</th>\n",
       "      <td>2019-04-01 00:03:02</td>\n",
       "      <td>2019-04-01 00:20:30</td>\n",
       "      <td>1048</td>\n",
       "      <td>317</td>\n",
       "      <td>59</td>\n",
       "      <td>Wood St &amp; Taylor St</td>\n",
       "      <td>Wabash Ave &amp; Roosevelt Rd</td>\n",
       "      <td>6226</td>\n",
       "      <td>Female</td>\n",
       "      <td>36</td>\n",
       "      <td>Member</td>\n",
       "    </tr>\n",
       "    <tr>\n",
       "      <th>2</th>\n",
       "      <td>2019-04-01 00:11:07</td>\n",
       "      <td>2019-04-01 00:15:19</td>\n",
       "      <td>252</td>\n",
       "      <td>283</td>\n",
       "      <td>174</td>\n",
       "      <td>LaSalle St &amp; Jackson Blvd</td>\n",
       "      <td>Canal St &amp; Madison St</td>\n",
       "      <td>5649</td>\n",
       "      <td>Male</td>\n",
       "      <td>30</td>\n",
       "      <td>Member</td>\n",
       "    </tr>\n",
       "  </tbody>\n",
       "</table>\n",
       "</div>"
      ],
      "text/plain": [
       "           start_time            end_time  trip_duration  start_id  end_id  \\\n",
       "0 2019-04-01 00:02:22 2019-04-01 00:09:48            446        81      56   \n",
       "1 2019-04-01 00:03:02 2019-04-01 00:20:30           1048       317      59   \n",
       "2 2019-04-01 00:11:07 2019-04-01 00:15:19            252       283     174   \n",
       "\n",
       "                  start_name                   end_name  bike_id  gender  age  \\\n",
       "0         Daley Center Plaza  Desplaines St & Kinzie St     6251    Male   45   \n",
       "1        Wood St & Taylor St  Wabash Ave & Roosevelt Rd     6226  Female   36   \n",
       "2  LaSalle St & Jackson Blvd      Canal St & Madison St     5649    Male   30   \n",
       "\n",
       "  user_type  \n",
       "0    Member  \n",
       "1    Member  \n",
       "2    Member  "
      ]
     },
     "execution_count": 21,
     "metadata": {},
     "output_type": "execute_result"
    }
   ],
   "source": [
    "data_19_q2.head(3)"
   ]
  },
  {
   "cell_type": "markdown",
   "id": "d186ce5f-66d5-4f7a-8a01-334d48edda93",
   "metadata": {},
   "source": [
    " "
   ]
  },
  {
   "cell_type": "markdown",
   "id": "01cd0757-92f4-47ec-9f10-42b9dec3c8dd",
   "metadata": {},
   "source": [
    " "
   ]
  },
  {
   "cell_type": "markdown",
   "id": "f2e9dbe5-973c-426a-b4e5-2d3759258fd7",
   "metadata": {},
   "source": [
    "> **Dataset - 2019 Q3**"
   ]
  },
  {
   "cell_type": "code",
   "execution_count": 22,
   "id": "b494afa7-d1c9-40c1-9377-d7268a3900ec",
   "metadata": {},
   "outputs": [],
   "source": [
    "data_19_q3 = pd.read_csv('../data/Divvy_Trips_2019_Q3.csv')"
   ]
  },
  {
   "cell_type": "code",
   "execution_count": 23,
   "id": "35ca2f57-0e96-4a95-aea3-c8c757e3c81c",
   "metadata": {},
   "outputs": [
    {
     "name": "stdout",
     "output_type": "stream",
     "text": [
      "<class 'pandas.core.frame.DataFrame'>\n",
      "RangeIndex: 1640718 entries, 0 to 1640717\n",
      "Data columns (total 12 columns):\n",
      " #   Column             Non-Null Count    Dtype  \n",
      "---  ------             --------------    -----  \n",
      " 0   trip_id            1640718 non-null  int64  \n",
      " 1   start_time         1640718 non-null  object \n",
      " 2   end_time           1640718 non-null  object \n",
      " 3   bikeid             1640718 non-null  int64  \n",
      " 4   tripduration       1640718 non-null  object \n",
      " 5   from_station_id    1640718 non-null  int64  \n",
      " 6   from_station_name  1640718 non-null  object \n",
      " 7   to_station_id      1640718 non-null  int64  \n",
      " 8   to_station_name    1640718 non-null  object \n",
      " 9   usertype           1640718 non-null  object \n",
      " 10  gender             1353368 non-null  object \n",
      " 11  birthyear          1362624 non-null  float64\n",
      "dtypes: float64(1), int64(4), object(7)\n",
      "memory usage: 150.2+ MB\n"
     ]
    }
   ],
   "source": [
    "data_19_q3.info()"
   ]
  },
  {
   "cell_type": "code",
   "execution_count": 24,
   "id": "e323c61a-cb7b-4bd6-9eb7-dfc8fd469cf8",
   "metadata": {},
   "outputs": [
    {
     "data": {
      "text/html": [
       "<div>\n",
       "<style scoped>\n",
       "    .dataframe tbody tr th:only-of-type {\n",
       "        vertical-align: middle;\n",
       "    }\n",
       "\n",
       "    .dataframe tbody tr th {\n",
       "        vertical-align: top;\n",
       "    }\n",
       "\n",
       "    .dataframe thead th {\n",
       "        text-align: right;\n",
       "    }\n",
       "</style>\n",
       "<table border=\"1\" class=\"dataframe\">\n",
       "  <thead>\n",
       "    <tr style=\"text-align: right;\">\n",
       "      <th></th>\n",
       "      <th>trip_id</th>\n",
       "      <th>start_time</th>\n",
       "      <th>end_time</th>\n",
       "      <th>bikeid</th>\n",
       "      <th>tripduration</th>\n",
       "      <th>from_station_id</th>\n",
       "      <th>from_station_name</th>\n",
       "      <th>to_station_id</th>\n",
       "      <th>to_station_name</th>\n",
       "      <th>usertype</th>\n",
       "      <th>gender</th>\n",
       "      <th>birthyear</th>\n",
       "    </tr>\n",
       "  </thead>\n",
       "  <tbody>\n",
       "    <tr>\n",
       "      <th>0</th>\n",
       "      <td>23479388</td>\n",
       "      <td>2019-07-01 00:00:27</td>\n",
       "      <td>2019-07-01 00:20:41</td>\n",
       "      <td>3591</td>\n",
       "      <td>1,214.0</td>\n",
       "      <td>117</td>\n",
       "      <td>Wilton Ave &amp; Belmont Ave</td>\n",
       "      <td>497</td>\n",
       "      <td>Kimball Ave &amp; Belmont Ave</td>\n",
       "      <td>Subscriber</td>\n",
       "      <td>Male</td>\n",
       "      <td>1992.0</td>\n",
       "    </tr>\n",
       "    <tr>\n",
       "      <th>1</th>\n",
       "      <td>23479389</td>\n",
       "      <td>2019-07-01 00:01:16</td>\n",
       "      <td>2019-07-01 00:18:44</td>\n",
       "      <td>5353</td>\n",
       "      <td>1,048.0</td>\n",
       "      <td>381</td>\n",
       "      <td>Western Ave &amp; Monroe St</td>\n",
       "      <td>203</td>\n",
       "      <td>Western Ave &amp; 21st St</td>\n",
       "      <td>Customer</td>\n",
       "      <td>NaN</td>\n",
       "      <td>NaN</td>\n",
       "    </tr>\n",
       "    <tr>\n",
       "      <th>2</th>\n",
       "      <td>23479390</td>\n",
       "      <td>2019-07-01 00:01:48</td>\n",
       "      <td>2019-07-01 00:27:42</td>\n",
       "      <td>6180</td>\n",
       "      <td>1,554.0</td>\n",
       "      <td>313</td>\n",
       "      <td>Lakeview Ave &amp; Fullerton Pkwy</td>\n",
       "      <td>144</td>\n",
       "      <td>Larrabee St &amp; Webster Ave</td>\n",
       "      <td>Customer</td>\n",
       "      <td>NaN</td>\n",
       "      <td>NaN</td>\n",
       "    </tr>\n",
       "  </tbody>\n",
       "</table>\n",
       "</div>"
      ],
      "text/plain": [
       "    trip_id           start_time             end_time  bikeid tripduration  \\\n",
       "0  23479388  2019-07-01 00:00:27  2019-07-01 00:20:41    3591      1,214.0   \n",
       "1  23479389  2019-07-01 00:01:16  2019-07-01 00:18:44    5353      1,048.0   \n",
       "2  23479390  2019-07-01 00:01:48  2019-07-01 00:27:42    6180      1,554.0   \n",
       "\n",
       "   from_station_id              from_station_name  to_station_id  \\\n",
       "0              117       Wilton Ave & Belmont Ave            497   \n",
       "1              381        Western Ave & Monroe St            203   \n",
       "2              313  Lakeview Ave & Fullerton Pkwy            144   \n",
       "\n",
       "             to_station_name    usertype gender  birthyear  \n",
       "0  Kimball Ave & Belmont Ave  Subscriber   Male     1992.0  \n",
       "1      Western Ave & 21st St    Customer    NaN        NaN  \n",
       "2  Larrabee St & Webster Ave    Customer    NaN        NaN  "
      ]
     },
     "execution_count": 24,
     "metadata": {},
     "output_type": "execute_result"
    }
   ],
   "source": [
    "data_19_q3.head(3)"
   ]
  },
  {
   "cell_type": "code",
   "execution_count": 25,
   "id": "34f4f994-c6e8-45d2-8dcf-483cf4ccdbc3",
   "metadata": {},
   "outputs": [],
   "source": [
    "# Removing Null Values\n",
    "data_19_q3 = data_19_q3[~data_19_q3['gender'].isnull() & ~data_19_q3['birthyear'].isnull()]\n",
    "\n",
    "# Trip duration --> interger\n",
    "data_19_q3['tripduration'] = data_19_q3['tripduration'].apply(lambda x: float(x.replace(',', '')))\n",
    "data_19_q3['tripduration'] = data_19_q3['tripduration'].apply(lambda x: int(x))\n",
    "\n",
    "# User Type --> Member/ Casual\n",
    "data_19_q3['usertype'] = data_19_q3['usertype'].replace({'Subscriber': 'Member', 'Customer': 'Casual'})\n",
    "\n",
    "# Age (as in 2020) --> from birthyear\n",
    "data_19_q3['birthyear'] = data_19_q3['birthyear'].apply(lambda x: int(x))\n",
    "data_19_q3['age'] = data_19_q3['birthyear'].apply(lambda x: 2020-x)\n",
    "\n",
    "# Obj --> datetime\n",
    "data_19_q3['start_time'] = pd.to_datetime(data_19_q3['start_time'])\n",
    "data_19_q3['end_time'] = pd.to_datetime(data_19_q3['end_time'])\n",
    "\n",
    "# Renaming\n",
    "data_19_q3['start_id'] = data_19_q3['from_station_id']\n",
    "data_19_q3['end_id'] = data_19_q3['to_station_id']\n",
    "\n",
    "data_19_q3['start_name'] = data_19_q3['from_station_name']\n",
    "data_19_q3['end_name'] = data_19_q3['to_station_name']\n",
    "\n",
    "data_19_q3['bike_id'] = data_19_q3['bikeid']\n",
    "data_19_q3['trip_duration'] = data_19_q3['tripduration']\n",
    "\n",
    "data_19_q3['user_type'] = data_19_q3['usertype']\n",
    "\n",
    "# Column Order\n",
    "data_19_q3 = data_19_q3[column_order]"
   ]
  },
  {
   "cell_type": "code",
   "execution_count": 26,
   "id": "fe34ad67-f079-4343-91e3-6e161f96bf7b",
   "metadata": {},
   "outputs": [
    {
     "name": "stdout",
     "output_type": "stream",
     "text": [
      "<class 'pandas.core.frame.DataFrame'>\n",
      "Index: 1353368 entries, 0 to 1640717\n",
      "Data columns (total 11 columns):\n",
      " #   Column         Non-Null Count    Dtype         \n",
      "---  ------         --------------    -----         \n",
      " 0   start_time     1353368 non-null  datetime64[ns]\n",
      " 1   end_time       1353368 non-null  datetime64[ns]\n",
      " 2   trip_duration  1353368 non-null  int64         \n",
      " 3   start_id       1353368 non-null  int64         \n",
      " 4   end_id         1353368 non-null  int64         \n",
      " 5   start_name     1353368 non-null  object        \n",
      " 6   end_name       1353368 non-null  object        \n",
      " 7   bike_id        1353368 non-null  int64         \n",
      " 8   gender         1353368 non-null  object        \n",
      " 9   age            1353368 non-null  int64         \n",
      " 10  user_type      1353368 non-null  object        \n",
      "dtypes: datetime64[ns](2), int64(5), object(4)\n",
      "memory usage: 123.9+ MB\n"
     ]
    }
   ],
   "source": [
    "data_19_q3.info()"
   ]
  },
  {
   "cell_type": "code",
   "execution_count": 27,
   "id": "bfef5661-7cb5-426a-8ea1-b48688c50e06",
   "metadata": {},
   "outputs": [
    {
     "data": {
      "text/html": [
       "<div>\n",
       "<style scoped>\n",
       "    .dataframe tbody tr th:only-of-type {\n",
       "        vertical-align: middle;\n",
       "    }\n",
       "\n",
       "    .dataframe tbody tr th {\n",
       "        vertical-align: top;\n",
       "    }\n",
       "\n",
       "    .dataframe thead th {\n",
       "        text-align: right;\n",
       "    }\n",
       "</style>\n",
       "<table border=\"1\" class=\"dataframe\">\n",
       "  <thead>\n",
       "    <tr style=\"text-align: right;\">\n",
       "      <th></th>\n",
       "      <th>start_time</th>\n",
       "      <th>end_time</th>\n",
       "      <th>trip_duration</th>\n",
       "      <th>start_id</th>\n",
       "      <th>end_id</th>\n",
       "      <th>start_name</th>\n",
       "      <th>end_name</th>\n",
       "      <th>bike_id</th>\n",
       "      <th>gender</th>\n",
       "      <th>age</th>\n",
       "      <th>user_type</th>\n",
       "    </tr>\n",
       "  </thead>\n",
       "  <tbody>\n",
       "    <tr>\n",
       "      <th>0</th>\n",
       "      <td>2019-07-01 00:00:27</td>\n",
       "      <td>2019-07-01 00:20:41</td>\n",
       "      <td>1214</td>\n",
       "      <td>117</td>\n",
       "      <td>497</td>\n",
       "      <td>Wilton Ave &amp; Belmont Ave</td>\n",
       "      <td>Kimball Ave &amp; Belmont Ave</td>\n",
       "      <td>3591</td>\n",
       "      <td>Male</td>\n",
       "      <td>28</td>\n",
       "      <td>Member</td>\n",
       "    </tr>\n",
       "    <tr>\n",
       "      <th>5</th>\n",
       "      <td>2019-07-01 00:02:21</td>\n",
       "      <td>2019-07-01 00:07:31</td>\n",
       "      <td>310</td>\n",
       "      <td>300</td>\n",
       "      <td>232</td>\n",
       "      <td>Broadway &amp; Barry Ave</td>\n",
       "      <td>Pine Grove Ave &amp; Waveland Ave</td>\n",
       "      <td>4941</td>\n",
       "      <td>Male</td>\n",
       "      <td>30</td>\n",
       "      <td>Member</td>\n",
       "    </tr>\n",
       "    <tr>\n",
       "      <th>18</th>\n",
       "      <td>2019-07-01 00:06:51</td>\n",
       "      <td>2019-07-01 00:26:22</td>\n",
       "      <td>1171</td>\n",
       "      <td>624</td>\n",
       "      <td>237</td>\n",
       "      <td>Dearborn St &amp; Van Buren St</td>\n",
       "      <td>MLK Jr Dr &amp; 29th St</td>\n",
       "      <td>2758</td>\n",
       "      <td>Male</td>\n",
       "      <td>25</td>\n",
       "      <td>Member</td>\n",
       "    </tr>\n",
       "  </tbody>\n",
       "</table>\n",
       "</div>"
      ],
      "text/plain": [
       "            start_time            end_time  trip_duration  start_id  end_id  \\\n",
       "0  2019-07-01 00:00:27 2019-07-01 00:20:41           1214       117     497   \n",
       "5  2019-07-01 00:02:21 2019-07-01 00:07:31            310       300     232   \n",
       "18 2019-07-01 00:06:51 2019-07-01 00:26:22           1171       624     237   \n",
       "\n",
       "                    start_name                       end_name  bike_id gender  \\\n",
       "0     Wilton Ave & Belmont Ave      Kimball Ave & Belmont Ave     3591   Male   \n",
       "5         Broadway & Barry Ave  Pine Grove Ave & Waveland Ave     4941   Male   \n",
       "18  Dearborn St & Van Buren St            MLK Jr Dr & 29th St     2758   Male   \n",
       "\n",
       "    age user_type  \n",
       "0    28    Member  \n",
       "5    30    Member  \n",
       "18   25    Member  "
      ]
     },
     "execution_count": 27,
     "metadata": {},
     "output_type": "execute_result"
    }
   ],
   "source": [
    "data_19_q3.head(3)"
   ]
  },
  {
   "cell_type": "markdown",
   "id": "83011737-1253-4ef2-8e69-eb475ba250fa",
   "metadata": {},
   "source": [
    " "
   ]
  },
  {
   "cell_type": "markdown",
   "id": "bb7a9847-8296-4f94-8f15-ab998fdacac2",
   "metadata": {},
   "source": [
    " "
   ]
  },
  {
   "cell_type": "markdown",
   "id": "af406995-285e-4609-bed6-5ca5076e1b50",
   "metadata": {},
   "source": [
    "> **Dataset - 2019 Q4**"
   ]
  },
  {
   "cell_type": "code",
   "execution_count": 28,
   "id": "def657f6-01ae-4e26-b8ec-25633fe8ed4d",
   "metadata": {},
   "outputs": [],
   "source": [
    "data_19_q4 = pd.read_csv('../data/Divvy_Trips_2019_Q4.csv')"
   ]
  },
  {
   "cell_type": "code",
   "execution_count": 29,
   "id": "eca0e174-b88b-4b24-af41-f1ef158932fb",
   "metadata": {},
   "outputs": [
    {
     "name": "stdout",
     "output_type": "stream",
     "text": [
      "<class 'pandas.core.frame.DataFrame'>\n",
      "RangeIndex: 704054 entries, 0 to 704053\n",
      "Data columns (total 12 columns):\n",
      " #   Column             Non-Null Count   Dtype  \n",
      "---  ------             --------------   -----  \n",
      " 0   trip_id            704054 non-null  int64  \n",
      " 1   start_time         704054 non-null  object \n",
      " 2   end_time           704054 non-null  object \n",
      " 3   bikeid             704054 non-null  int64  \n",
      " 4   tripduration       704054 non-null  object \n",
      " 5   from_station_id    704054 non-null  int64  \n",
      " 6   from_station_name  704054 non-null  object \n",
      " 7   to_station_id      704054 non-null  int64  \n",
      " 8   to_station_name    704054 non-null  object \n",
      " 9   usertype           704054 non-null  object \n",
      " 10  gender             637463 non-null  object \n",
      " 11  birthyear          642373 non-null  float64\n",
      "dtypes: float64(1), int64(4), object(7)\n",
      "memory usage: 64.5+ MB\n"
     ]
    }
   ],
   "source": [
    "data_19_q4.info()"
   ]
  },
  {
   "cell_type": "code",
   "execution_count": 30,
   "id": "f0b036ab-a39c-4829-9db6-d74eb4a60287",
   "metadata": {},
   "outputs": [
    {
     "data": {
      "text/html": [
       "<div>\n",
       "<style scoped>\n",
       "    .dataframe tbody tr th:only-of-type {\n",
       "        vertical-align: middle;\n",
       "    }\n",
       "\n",
       "    .dataframe tbody tr th {\n",
       "        vertical-align: top;\n",
       "    }\n",
       "\n",
       "    .dataframe thead th {\n",
       "        text-align: right;\n",
       "    }\n",
       "</style>\n",
       "<table border=\"1\" class=\"dataframe\">\n",
       "  <thead>\n",
       "    <tr style=\"text-align: right;\">\n",
       "      <th></th>\n",
       "      <th>trip_id</th>\n",
       "      <th>start_time</th>\n",
       "      <th>end_time</th>\n",
       "      <th>bikeid</th>\n",
       "      <th>tripduration</th>\n",
       "      <th>from_station_id</th>\n",
       "      <th>from_station_name</th>\n",
       "      <th>to_station_id</th>\n",
       "      <th>to_station_name</th>\n",
       "      <th>usertype</th>\n",
       "      <th>gender</th>\n",
       "      <th>birthyear</th>\n",
       "    </tr>\n",
       "  </thead>\n",
       "  <tbody>\n",
       "    <tr>\n",
       "      <th>0</th>\n",
       "      <td>25223640</td>\n",
       "      <td>2019-10-01 00:01:39</td>\n",
       "      <td>2019-10-01 00:17:20</td>\n",
       "      <td>2215</td>\n",
       "      <td>940.0</td>\n",
       "      <td>20</td>\n",
       "      <td>Sheffield Ave &amp; Kingsbury St</td>\n",
       "      <td>309</td>\n",
       "      <td>Leavitt St &amp; Armitage Ave</td>\n",
       "      <td>Subscriber</td>\n",
       "      <td>Male</td>\n",
       "      <td>1987.0</td>\n",
       "    </tr>\n",
       "    <tr>\n",
       "      <th>1</th>\n",
       "      <td>25223641</td>\n",
       "      <td>2019-10-01 00:02:16</td>\n",
       "      <td>2019-10-01 00:06:34</td>\n",
       "      <td>6328</td>\n",
       "      <td>258.0</td>\n",
       "      <td>19</td>\n",
       "      <td>Throop (Loomis) St &amp; Taylor St</td>\n",
       "      <td>241</td>\n",
       "      <td>Morgan St &amp; Polk St</td>\n",
       "      <td>Subscriber</td>\n",
       "      <td>Male</td>\n",
       "      <td>1998.0</td>\n",
       "    </tr>\n",
       "    <tr>\n",
       "      <th>2</th>\n",
       "      <td>25223642</td>\n",
       "      <td>2019-10-01 00:04:32</td>\n",
       "      <td>2019-10-01 00:18:43</td>\n",
       "      <td>3003</td>\n",
       "      <td>850.0</td>\n",
       "      <td>84</td>\n",
       "      <td>Milwaukee Ave &amp; Grand Ave</td>\n",
       "      <td>199</td>\n",
       "      <td>Wabash Ave &amp; Grand Ave</td>\n",
       "      <td>Subscriber</td>\n",
       "      <td>Female</td>\n",
       "      <td>1991.0</td>\n",
       "    </tr>\n",
       "  </tbody>\n",
       "</table>\n",
       "</div>"
      ],
      "text/plain": [
       "    trip_id           start_time             end_time  bikeid tripduration  \\\n",
       "0  25223640  2019-10-01 00:01:39  2019-10-01 00:17:20    2215        940.0   \n",
       "1  25223641  2019-10-01 00:02:16  2019-10-01 00:06:34    6328        258.0   \n",
       "2  25223642  2019-10-01 00:04:32  2019-10-01 00:18:43    3003        850.0   \n",
       "\n",
       "   from_station_id               from_station_name  to_station_id  \\\n",
       "0               20    Sheffield Ave & Kingsbury St            309   \n",
       "1               19  Throop (Loomis) St & Taylor St            241   \n",
       "2               84       Milwaukee Ave & Grand Ave            199   \n",
       "\n",
       "             to_station_name    usertype  gender  birthyear  \n",
       "0  Leavitt St & Armitage Ave  Subscriber    Male     1987.0  \n",
       "1        Morgan St & Polk St  Subscriber    Male     1998.0  \n",
       "2     Wabash Ave & Grand Ave  Subscriber  Female     1991.0  "
      ]
     },
     "execution_count": 30,
     "metadata": {},
     "output_type": "execute_result"
    }
   ],
   "source": [
    "data_19_q4.head(3)"
   ]
  },
  {
   "cell_type": "code",
   "execution_count": 31,
   "id": "cf1234be-799a-4d26-ae5c-2dc12b8cec07",
   "metadata": {},
   "outputs": [],
   "source": [
    "# Removing Null Values\n",
    "data_19_q4 = data_19_q4[~data_19_q4['gender'].isnull() & ~data_19_q4['birthyear'].isnull()]\n",
    "\n",
    "# Trip duration --> interger\n",
    "data_19_q4['tripduration'] = data_19_q4['tripduration'].apply(lambda x: float(x.replace(',', '')))\n",
    "data_19_q4['tripduration'] = data_19_q4['tripduration'].apply(lambda x: int(x))\n",
    "\n",
    "# User Type --> Member/ Casual\n",
    "data_19_q4['usertype'] = data_19_q4['usertype'].replace({'Subscriber': 'Member', 'Customer': 'Casual'})\n",
    "\n",
    "# Age (as in 2020) --> from birthyear\n",
    "data_19_q4['birthyear'] = data_19_q4['birthyear'].apply(lambda x: int(x))\n",
    "data_19_q4['age'] = data_19_q4['birthyear'].apply(lambda x: 2020-x)\n",
    "\n",
    "# Obj --> datetime\n",
    "data_19_q4['start_time'] = pd.to_datetime(data_19_q4['start_time'])\n",
    "data_19_q4['end_time'] = pd.to_datetime(data_19_q4['end_time'])\n",
    "\n",
    "# Renaming\n",
    "data_19_q4['start_id'] = data_19_q4['from_station_id']\n",
    "data_19_q4['end_id'] = data_19_q4['to_station_id']\n",
    "\n",
    "data_19_q4['start_name'] = data_19_q4['from_station_name']\n",
    "data_19_q4['end_name'] = data_19_q4['to_station_name']\n",
    "\n",
    "data_19_q4['bike_id'] = data_19_q4['bikeid']\n",
    "data_19_q4['trip_duration'] = data_19_q4['tripduration']\n",
    "\n",
    "data_19_q4['user_type'] = data_19_q4['usertype']\n",
    "\n",
    "# Column Order\n",
    "data_19_q4 = data_19_q4[column_order]"
   ]
  },
  {
   "cell_type": "code",
   "execution_count": 32,
   "id": "ffd4b928-4e89-466b-a94d-092b9474587b",
   "metadata": {},
   "outputs": [
    {
     "name": "stdout",
     "output_type": "stream",
     "text": [
      "<class 'pandas.core.frame.DataFrame'>\n",
      "Index: 637463 entries, 0 to 704053\n",
      "Data columns (total 11 columns):\n",
      " #   Column         Non-Null Count   Dtype         \n",
      "---  ------         --------------   -----         \n",
      " 0   start_time     637463 non-null  datetime64[ns]\n",
      " 1   end_time       637463 non-null  datetime64[ns]\n",
      " 2   trip_duration  637463 non-null  int64         \n",
      " 3   start_id       637463 non-null  int64         \n",
      " 4   end_id         637463 non-null  int64         \n",
      " 5   start_name     637463 non-null  object        \n",
      " 6   end_name       637463 non-null  object        \n",
      " 7   bike_id        637463 non-null  int64         \n",
      " 8   gender         637463 non-null  object        \n",
      " 9   age            637463 non-null  int64         \n",
      " 10  user_type      637463 non-null  object        \n",
      "dtypes: datetime64[ns](2), int64(5), object(4)\n",
      "memory usage: 58.4+ MB\n"
     ]
    }
   ],
   "source": [
    "data_19_q4.info()"
   ]
  },
  {
   "cell_type": "code",
   "execution_count": 33,
   "id": "94c7a8f5-6259-4d10-ae14-68b4a1abe187",
   "metadata": {},
   "outputs": [
    {
     "data": {
      "text/html": [
       "<div>\n",
       "<style scoped>\n",
       "    .dataframe tbody tr th:only-of-type {\n",
       "        vertical-align: middle;\n",
       "    }\n",
       "\n",
       "    .dataframe tbody tr th {\n",
       "        vertical-align: top;\n",
       "    }\n",
       "\n",
       "    .dataframe thead th {\n",
       "        text-align: right;\n",
       "    }\n",
       "</style>\n",
       "<table border=\"1\" class=\"dataframe\">\n",
       "  <thead>\n",
       "    <tr style=\"text-align: right;\">\n",
       "      <th></th>\n",
       "      <th>start_time</th>\n",
       "      <th>end_time</th>\n",
       "      <th>trip_duration</th>\n",
       "      <th>start_id</th>\n",
       "      <th>end_id</th>\n",
       "      <th>start_name</th>\n",
       "      <th>end_name</th>\n",
       "      <th>bike_id</th>\n",
       "      <th>gender</th>\n",
       "      <th>age</th>\n",
       "      <th>user_type</th>\n",
       "    </tr>\n",
       "  </thead>\n",
       "  <tbody>\n",
       "    <tr>\n",
       "      <th>0</th>\n",
       "      <td>2019-10-01 00:01:39</td>\n",
       "      <td>2019-10-01 00:17:20</td>\n",
       "      <td>940</td>\n",
       "      <td>20</td>\n",
       "      <td>309</td>\n",
       "      <td>Sheffield Ave &amp; Kingsbury St</td>\n",
       "      <td>Leavitt St &amp; Armitage Ave</td>\n",
       "      <td>2215</td>\n",
       "      <td>Male</td>\n",
       "      <td>33</td>\n",
       "      <td>Member</td>\n",
       "    </tr>\n",
       "    <tr>\n",
       "      <th>1</th>\n",
       "      <td>2019-10-01 00:02:16</td>\n",
       "      <td>2019-10-01 00:06:34</td>\n",
       "      <td>258</td>\n",
       "      <td>19</td>\n",
       "      <td>241</td>\n",
       "      <td>Throop (Loomis) St &amp; Taylor St</td>\n",
       "      <td>Morgan St &amp; Polk St</td>\n",
       "      <td>6328</td>\n",
       "      <td>Male</td>\n",
       "      <td>22</td>\n",
       "      <td>Member</td>\n",
       "    </tr>\n",
       "    <tr>\n",
       "      <th>2</th>\n",
       "      <td>2019-10-01 00:04:32</td>\n",
       "      <td>2019-10-01 00:18:43</td>\n",
       "      <td>850</td>\n",
       "      <td>84</td>\n",
       "      <td>199</td>\n",
       "      <td>Milwaukee Ave &amp; Grand Ave</td>\n",
       "      <td>Wabash Ave &amp; Grand Ave</td>\n",
       "      <td>3003</td>\n",
       "      <td>Female</td>\n",
       "      <td>29</td>\n",
       "      <td>Member</td>\n",
       "    </tr>\n",
       "  </tbody>\n",
       "</table>\n",
       "</div>"
      ],
      "text/plain": [
       "           start_time            end_time  trip_duration  start_id  end_id  \\\n",
       "0 2019-10-01 00:01:39 2019-10-01 00:17:20            940        20     309   \n",
       "1 2019-10-01 00:02:16 2019-10-01 00:06:34            258        19     241   \n",
       "2 2019-10-01 00:04:32 2019-10-01 00:18:43            850        84     199   \n",
       "\n",
       "                       start_name                   end_name  bike_id  gender  \\\n",
       "0    Sheffield Ave & Kingsbury St  Leavitt St & Armitage Ave     2215    Male   \n",
       "1  Throop (Loomis) St & Taylor St        Morgan St & Polk St     6328    Male   \n",
       "2       Milwaukee Ave & Grand Ave     Wabash Ave & Grand Ave     3003  Female   \n",
       "\n",
       "   age user_type  \n",
       "0   33    Member  \n",
       "1   22    Member  \n",
       "2   29    Member  "
      ]
     },
     "execution_count": 33,
     "metadata": {},
     "output_type": "execute_result"
    }
   ],
   "source": [
    "data_19_q4.head(3)"
   ]
  },
  {
   "cell_type": "markdown",
   "id": "efb1afa7-813a-403e-a8d9-39a5f9e8d3a8",
   "metadata": {},
   "source": [
    " "
   ]
  },
  {
   "cell_type": "code",
   "execution_count": 34,
   "id": "041ff831-ab93-4165-a1c7-d5af2c84a6d1",
   "metadata": {},
   "outputs": [],
   "source": [
    "data = pd.concat([data_19_q1, data_19_q2, data_19_q3, data_19_q4])"
   ]
  },
  {
   "cell_type": "code",
   "execution_count": 44,
   "id": "eef3cd50-9a28-475f-b367-a9065c7ee03b",
   "metadata": {},
   "outputs": [],
   "source": [
    "data['day'] = data['start_time'].dt.day_name()\n",
    "column_order = ['start_time',\n",
    " 'end_time',\n",
    " 'day',\n",
    " 'trip_duration',\n",
    " 'start_id',\n",
    " 'end_id',\n",
    " 'start_name',\n",
    " 'end_name',\n",
    " 'bike_id',\n",
    " 'gender',\n",
    " 'age',\n",
    " 'user_type']\n",
    "data = data[column_order]"
   ]
  },
  {
   "cell_type": "code",
   "execution_count": 45,
   "id": "8aadddc3-9395-48bb-85eb-5e2e4f08a18c",
   "metadata": {},
   "outputs": [
    {
     "name": "stdout",
     "output_type": "stream",
     "text": [
      "<class 'pandas.core.frame.DataFrame'>\n",
      "Index: 3258796 entries, 0 to 704053\n",
      "Data columns (total 12 columns):\n",
      " #   Column         Dtype         \n",
      "---  ------         -----         \n",
      " 0   start_time     datetime64[ns]\n",
      " 1   end_time       datetime64[ns]\n",
      " 2   day            object        \n",
      " 3   trip_duration  int64         \n",
      " 4   start_id       int64         \n",
      " 5   end_id         int64         \n",
      " 6   start_name     object        \n",
      " 7   end_name       object        \n",
      " 8   bike_id        int64         \n",
      " 9   gender         object        \n",
      " 10  age            int64         \n",
      " 11  user_type      object        \n",
      "dtypes: datetime64[ns](2), int64(5), object(5)\n",
      "memory usage: 323.2+ MB\n"
     ]
    }
   ],
   "source": [
    "data.info()"
   ]
  },
  {
   "cell_type": "code",
   "execution_count": 46,
   "id": "5ddcc158-deb8-4e79-b57a-bd71b216cd44",
   "metadata": {},
   "outputs": [],
   "source": [
    "data.to_csv('../data/data.csv', index=False)"
   ]
  }
 ],
 "metadata": {
  "kernelspec": {
   "display_name": "Python 3 (ipykernel)",
   "language": "python",
   "name": "python3"
  },
  "language_info": {
   "codemirror_mode": {
    "name": "ipython",
    "version": 3
   },
   "file_extension": ".py",
   "mimetype": "text/x-python",
   "name": "python",
   "nbconvert_exporter": "python",
   "pygments_lexer": "ipython3",
   "version": "3.11.4"
  }
 },
 "nbformat": 4,
 "nbformat_minor": 5
}
